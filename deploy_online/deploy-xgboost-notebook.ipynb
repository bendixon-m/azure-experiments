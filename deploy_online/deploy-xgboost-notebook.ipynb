{
 "cells": [
  {
   "cell_type": "code",
   "execution_count": 1,
   "metadata": {},
   "outputs": [
    {
     "name": "stdout",
     "output_type": "stream",
     "text": [
      "\u001b[93mA web browser has been opened at https://login.microsoftonline.com/organizations/oauth2/v2.0/authorize. Please continue the login in the web browser. If no web browser is available or if the web browser fails to open, use device code flow with `az login --use-device-code`.\u001b[0m\n",
      "[\n",
      "  {\n",
      "    \"cloudName\": \"AzureCloud\",\n",
      "    \"homeTenantId\": \"7b658efc-8cee-4580-b989-85db158d4e3c\",\n",
      "    \"id\": \"3979595d-b401-4ff4-b3ef-661b8481c742\",\n",
      "    \"isDefault\": true,\n",
      "    \"managedByTenants\": [\n",
      "      {\n",
      "        \"tenantId\": \"961897a7-5808-4b80-b503-dbb7be13e7a7\"\n",
      "      }\n",
      "    ],\n",
      "    \"name\": \"MV-AZU-001\",\n",
      "    \"state\": \"Enabled\",\n",
      "    \"tenantId\": \"7b658efc-8cee-4580-b989-85db158d4e3c\",\n",
      "    \"user\": {\n",
      "      \"name\": \"ben.dixon@multiverse.io\",\n",
      "      \"type\": \"user\"\n",
      "    }\n",
      "  }\n",
      "]\n"
     ]
    }
   ],
   "source": [
    "!az login"
   ]
  },
  {
   "cell_type": "code",
   "execution_count": 2,
   "metadata": {},
   "outputs": [
    {
     "name": "stderr",
     "output_type": "stream",
     "text": [
      "/Users/ben.dixon/Repos/azure-experiments/.venv/lib/python3.9/site-packages/urllib3/__init__.py:35: NotOpenSSLWarning: urllib3 v2 only supports OpenSSL 1.1.1+, currently the 'ssl' module is compiled with 'LibreSSL 2.8.3'. See: https://github.com/urllib3/urllib3/issues/3020\n",
      "  warnings.warn(\n"
     ]
    }
   ],
   "source": [
    "import uuid\n",
    "from azure.ai.ml import MLClient\n",
    "from azure.identity import DefaultAzureCredential\n",
    "from azure.ai.ml.entities import Model\n",
    "from azure.ai.ml.constants import AssetTypes\n",
    "from azure.ai.ml.entities import Environment\n",
    "from azure.ai.ml.entities import ManagedOnlineEndpoint\n",
    "from azure.ai.ml.entities import ManagedOnlineDeployment, CodeConfiguration"
   ]
  },
  {
   "cell_type": "code",
   "execution_count": 3,
   "metadata": {},
   "outputs": [
    {
     "name": "stderr",
     "output_type": "stream",
     "text": [
      "Found the config file in: /Users/ben.dixon/Repos/azure-experiments/config.json\n"
     ]
    }
   ],
   "source": [
    "credential = DefaultAzureCredential()\n",
    "ml_client = MLClient.from_config(credential)"
   ]
  },
  {
   "cell_type": "markdown",
   "metadata": {},
   "source": [
    "## Register model and get latest version"
   ]
  },
  {
   "cell_type": "code",
   "execution_count": 7,
   "metadata": {},
   "outputs": [
    {
     "name": "stdout",
     "output_type": "stream",
     "text": [
      "Latest model version: 21\n"
     ]
    }
   ],
   "source": [
    "REGISTERED_MODEL_NAME = \"xgboost_model\"\n",
    "\n",
    "xgboost_model = Model(\n",
    "    path=\"../deploy/assets/xgboost_model.json\",\n",
    "    type=AssetTypes.CUSTOM_MODEL,\n",
    "    name=REGISTERED_MODEL_NAME,\n",
    "    description=\"Model created from local files.\",\n",
    ")\n",
    "ml_client.models.create_or_update(xgboost_model)\n",
    "\n",
    "latest_model_version = max(\n",
    "        [int(m.version) for m in ml_client.models.list(name=REGISTERED_MODEL_NAME)]\n",
    "    )\n",
    "print(f\"Latest model version: {latest_model_version}\")\n",
    "latest_model = ml_client.models.get(name=REGISTERED_MODEL_NAME, version=latest_model_version)\n"
   ]
  },
  {
   "cell_type": "markdown",
   "metadata": {},
   "source": [
    "## Register environment"
   ]
  },
  {
   "cell_type": "code",
   "execution_count": 8,
   "metadata": {},
   "outputs": [
    {
     "data": {
      "text/plain": [
       "Environment({'arm_type': 'environment_version', 'latest_version': None, 'image': 'mcr.microsoft.com/azureml/openmpi4.1.0-ubuntu20.04', 'intellectual_property': None, 'is_anonymous': False, 'auto_increment_version': False, 'auto_delete_setting': None, 'name': 'xgboost-inference-env', 'description': 'Environment for xgboost inference created from a Docker image plus Conda environment.', 'tags': {}, 'properties': {'azureml.labels': 'latest'}, 'print_as_yaml': False, 'id': '/subscriptions/3979595d-b401-4ff4-b3ef-661b8481c742/resourceGroups/aiplatform-1/providers/Microsoft.MachineLearningServices/workspaces/ai-mlw-dev-01/environments/xgboost-inference-env/versions/22', 'Resource__source_path': '', 'base_path': '/Users/ben.dixon/Repos/azure-experiments/deploy', 'creation_context': <azure.ai.ml.entities._system_data.SystemData object at 0x1456d81c0>, 'serialize': <msrest.serialization.Serializer object at 0x1456d87c0>, 'version': '22', 'conda_file': {'channels': ['conda-forge'], 'dependencies': ['python=3.9', 'numpy=1.23.5', 'pip=23.0.1', 'scikit-learn=1.2.2', 'scipy=1.10.1', 'xgboost=2.0.3', {'pip': ['azureml-defaults==1.53.0', 'inference-schema[numpy-support]==1.5.1', 'joblib==1.2.0']}], 'name': 'model-env'}, 'build': None, 'inference_config': None, 'os_type': 'Linux', 'conda_file_path': None, 'path': None, 'datastore': None, 'upload_hash': None, 'translated_conda_file': '{\\n  \"channels\": [\\n    \"conda-forge\"\\n  ],\\n  \"dependencies\": [\\n    \"python=3.9\",\\n    \"numpy=1.23.5\",\\n    \"pip=23.0.1\",\\n    \"scikit-learn=1.2.2\",\\n    \"scipy=1.10.1\",\\n    \"xgboost=2.0.3\",\\n    {\\n      \"pip\": [\\n        \"azureml-defaults==1.53.0\",\\n        \"inference-schema[numpy-support]==1.5.1\",\\n        \"joblib==1.2.0\"\\n      ]\\n    }\\n  ],\\n  \"name\": \"model-env\"\\n}'})"
      ]
     },
     "execution_count": 8,
     "metadata": {},
     "output_type": "execute_result"
    }
   ],
   "source": [
    "env = Environment(\n",
    "        image=\"mcr.microsoft.com/azureml/openmpi4.1.0-ubuntu20.04\",\n",
    "        conda_file=\"../azureml_envs/xgboost.yaml\",\n",
    "        name=\"xgboost-inference-env\",\n",
    "        description=\"Environment for xgboost inference created from a Docker image plus Conda environment.\",\n",
    "    )\n",
    "ml_client.environments.create_or_update(env)"
   ]
  },
  {
   "cell_type": "markdown",
   "metadata": {},
   "source": [
    "## Create local endpoint "
   ]
  },
  {
   "cell_type": "code",
   "execution_count": 16,
   "metadata": {},
   "outputs": [
    {
     "name": "stderr",
     "output_type": "stream",
     "text": [
      "Creating local endpoint (xgboost-model-endpoint-2e60ced8) .Done (0m 5s)\n"
     ]
    },
    {
     "data": {
      "text/plain": [
       "ManagedOnlineEndpoint({'public_network_access': None, 'provisioning_state': None, 'scoring_uri': None, 'openapi_uri': None, 'name': 'xgboost-model-endpoint-2e60ced8', 'description': \"this is an online endpoint for the xgboost model and it's great!\", 'tags': {'training_dataset': 'sklearn_iris'}, 'properties': {}, 'print_as_yaml': False, 'id': None, 'Resource__source_path': '', 'base_path': PosixPath('/Users/ben.dixon/.azureml/inferencing/xgboost-model-endpoint-2e60ced8'), 'creation_context': None, 'serialize': <msrest.serialization.Serializer object at 0x1465a9d30>, 'auth_mode': 'key', 'location': None, 'identity': None, 'traffic': {}, 'mirror_traffic': {}, 'kind': None})"
      ]
     },
     "execution_count": 16,
     "metadata": {},
     "output_type": "execute_result"
    }
   ],
   "source": [
    "online_endpoint_name = \"xgboost-model-endpoint-\" + str(uuid.uuid4())[:8]\n",
    "endpoint = ManagedOnlineEndpoint(\n",
    "    name=online_endpoint_name,\n",
    "    description=\"this is an online endpoint for the xgboost model and it's great!\",\n",
    "    auth_mode=\"key\",\n",
    "    tags={\n",
    "        \"training_dataset\": \"sklearn_iris\",\n",
    "    },\n",
    ")\n",
    "ml_client.online_endpoints.begin_create_or_update(endpoint, local=True) # takes approximately 2 minutes."
   ]
  },
  {
   "cell_type": "markdown",
   "metadata": {},
   "source": [
    "## Create a local deployment\n",
    "\n",
    "Local endpoints only support local artifacts, so loading the model locally. "
   ]
  },
  {
   "cell_type": "code",
   "execution_count": 17,
   "metadata": {},
   "outputs": [
    {
     "name": "stderr",
     "output_type": "stream",
     "text": [
      "Creating local deployment (xgboost-model-endpoint-2e60ced8 / blue) .\n",
      "Building Docker image from Dockerfile\n",
      "Step 1/6 : FROM mcr.microsoft.com/azureml/openmpi4.1.0-ubuntu20.04\n",
      " ---> 948ed3518cc2\n",
      "Step 2/6 : RUN mkdir -p /var/azureml-app/\n",
      " ---> [Warning] The requested image's platform (linux/amd64) does not match the detected host platform (linux/arm64/v8) and no specific platform was requested\n",
      " ---> Running in f55087ccc2a9\n",
      " ---> a7d5e2241042\n",
      "Step 3/6 : WORKDIR /var/azureml-app/\n",
      " ---> [Warning] The requested image's platform (linux/amd64) does not match the detected host platform (linux/arm64/v8) and no specific platform was requested\n",
      " ---> Running in 2d3dc5ef7c95\n",
      " ---> 95f0c796d118\n",
      "Step 4/6 : COPY conda.yml /var/azureml-app/\n",
      " ---> 6a4f7d9457f7\n",
      "Step 5/6 : RUN conda env create -n inf-conda-env --file conda.yml\n",
      " ---> [Warning] The requested image's platform (linux/amd64) does not match the detected host platform (linux/arm64/v8) and no specific platform was requested\n",
      " ---> Running in 7c121672a36d\n",
      "Retrieving notices: ...working... done\n",
      "Channels:\n",
      " - conda-forge\n",
      " - defaults\n",
      "Platform: linux-64\n",
      "Collecting package metadata (repodata.json): ...working... ....done\n",
      "Solving environment: ...working... done\n",
      "\u001b[91m\n",
      "\n",
      "==> WARNING: A newer version of conda exists. <==\n",
      "    current version: 24.4.0\n",
      "    latest version: 24.5.0\n",
      "\n",
      "Please update conda by running\n",
      "\n",
      "    $ conda update -n base -c conda-forge conda\n",
      "\n",
      "\n",
      "\u001b[0m..\n",
      "Downloading and Extracting Packages: ...working... done\n",
      "Preparing transaction: ...working... done\n",
      "Verifying transaction: ...working... done\n",
      "Executing transaction: ...working... .done\n",
      "Installing pip dependencies: ...working... ...............Ran pip subprocess with arguments:\n",
      "['/opt/miniconda/envs/inf-conda-env/bin/python', '-m', 'pip', 'install', '-U', '-r', '/var/azureml-app/condaenv.8xhjhoyj.requirements.txt', '--exists-action=b']\n",
      "Pip subprocess output:\n",
      "Collecting azureml-defaults==1.53.0\n",
      "  Downloading azureml_defaults-1.53.0-py3-none-any.whl (2.0 kB)\n",
      "Collecting inference-schema[numpy-support]==1.5.1\n",
      "  Downloading inference_schema-1.5.1-py3-none-any.whl (21 kB)\n",
      "Collecting joblib==1.2.0\n",
      "  Downloading joblib-1.2.0-py3-none-any.whl (297 kB)\n",
      "     ━━━━━━━━━━━━━━━━━━━━━━━━━━━━━━━━━━━━━━━ 298.0/298.0 kB 1.5 MB/s eta 0:00:00\n",
      "Collecting azureml-inference-server-http~=0.8.0\n",
      "  Downloading azureml_inference_server_http-0.8.4.2-py3-none-any.whl (43 kB)\n",
      "     ━━━━━━━━━━━━━━━━━━━━━━━━━━━━━━━━━━━━━━━━ 43.5/43.5 kB 1.7 MB/s eta 0:00:00\n",
      "Collecting azureml-dataset-runtime[fuse]~=1.53.0\n",
      "  Downloading azureml_dataset_runtime-1.53.0-py3-none-any.whl (2.3 kB)\n",
      "Collecting azureml-core~=1.53.0\n",
      "  Downloading azureml_core-1.53.0-py3-none-any.whl (3.3 MB)\n",
      "     ━━━━━━━━━━━━━━━━━━━━━━━━━━━━━━━━━━━━━━━━ 3.3/3.3 MB 2.7 MB/s eta 0:00:00\n",
      "Collecting python-dateutil>=2.5.3\n",
      "  Downloading python_dateutil-2.9.0.post0-py2.py3-none-any.whl (229 kB)\n",
      "     ━━━━━━━━━━━━━━━━━━━━━━━━━━━━━━━━━━━━━━━ 229.9/229.9 kB 2.9 MB/s eta 0:00:00\n",
      "Collecting pytz>=2017.2\n",
      "  Downloading pytz-2024.1-py2.py3-none-any.whl (505 kB)\n",
      "     ━━━━━━━━━━━━━━━━━━━━━━━━━━━━━━━━━━━━━━━ 505.5/505.5 kB 3.6 MB/s eta 0:00:00\n",
      "Collecting wrapt<=1.12.1,>=1.11.1\n",
      "  Downloading wrapt-1.12.1.tar.gz (27 kB)\n",
      "  Preparing metadata (setup.py): started\n",
      "  Preparing metadata (setup.py): finished with status 'done'\n",
      "Requirement already satisfied: numpy>=1.13.0 in /opt/miniconda/envs/inf-conda-env/lib/python3.9/site-packages (from inference-schema[numpy-support]==1.5.1->-r /var/azureml-app/condaenv.8xhjhoyj.requirements.txt (line 2)) (1.23.5)\n",
      "Collecting pkginfo\n",
      "  Downloading pkginfo-1.10.0-py3-none-any.whl (30 kB)\n",
      "Collecting cryptography!=1.9,!=2.0.*,!=2.1.*,!=2.2.*\n",
      "  Downloading cryptography-42.0.7-cp39-abi3-manylinux_2_28_x86_64.whl (3.8 MB)\n",
      "     ━━━━━━━━━━━━━━━━━━━━━━━━━━━━━━━━━━━━━━━━ 3.8/3.8 MB 4.4 MB/s eta 0:00:00\n",
      "Collecting paramiko<4.0.0,>=2.0.8\n",
      "  Downloading paramiko-3.4.0-py3-none-any.whl (225 kB)\n",
      "     ━━━━━━━━━━━━━━━━━━━━━━━━━━━━━━━━━━━━━━━ 225.9/225.9 kB 5.8 MB/s eta 0:00:00\n",
      "Requirement already satisfied: requests[socks]<3.0.0,>=2.19.1 in /opt/miniconda/envs/inf-conda-env/lib/python3.9/site-packages (from azureml-core~=1.53.0->azureml-defaults==1.53.0->-r /var/azureml-app/condaenv.8xhjhoyj.requirements.txt (line 1)) (2.32.2)\n",
      "Collecting urllib3<2.0.0,>=1.23\n",
      "  Downloading urllib3-1.26.18-py2.py3-none-any.whl (143 kB)\n",
      "     ━━━━━━━━━━━━━━━━━━━━━━━━━━━━━━━━━━━━━━━ 143.8/143.8 kB 6.0 MB/s eta 0:00:00\n",
      "Collecting azure-mgmt-resource<=22.0.0,>=15.0.0\n",
      "  Downloading azure_mgmt_resource-22.0.0-py3-none-any.whl (2.4 MB)\n",
      "     ━━━━━━━━━━━━━━━━━━━━━━━━━━━━━━━━━━━━━━━━ 2.4/2.4 MB 5.5 MB/s eta 0:00:00\n",
      "Collecting PyJWT<3.0.0\n",
      "  Downloading PyJWT-2.8.0-py3-none-any.whl (22 kB)\n",
      "Collecting docker<7.0.0\n",
      "  Downloading docker-6.1.3-py3-none-any.whl (148 kB)\n",
      "     ━━━━━━━━━━━━━━━━━━━━━━━━━━━━━━━━━━━━━━━ 148.1/148.1 kB 5.9 MB/s eta 0:00:00\n",
      "Collecting azure-mgmt-authorization<4,>=0.40.0\n",
      "  Downloading azure_mgmt_authorization-3.0.0-py3-none-any.whl (965 kB)\n",
      "     ━━━━━━━━━━━━━━━━━━━━━━━━━━━━━━━━━━━━━━━ 965.9/965.9 kB 6.2 MB/s eta 0:00:00\n",
      "Collecting azure-mgmt-keyvault<11.0.0,>=0.40.0\n",
      "  Downloading azure_mgmt_keyvault-10.3.0-py3-none-any.whl (933 kB)\n",
      "     ━━━━━━━━━━━━━━━━━━━━━━━━━━━━━━━━━━━━━━━ 933.0/933.0 kB 6.4 MB/s eta 0:00:00\n",
      "Collecting jmespath<2.0.0\n",
      "  Downloading jmespath-1.0.1-py3-none-any.whl (20 kB)\n",
      "Collecting SecretStorage<4.0.0\n",
      "  Downloading SecretStorage-3.3.3-py3-none-any.whl (15 kB)\n",
      "Collecting jsonpickle<4.0.0\n",
      "  Downloading jsonpickle-3.0.4-py3-none-any.whl (39 kB)\n",
      "Collecting argcomplete<3\n",
      "  Downloading argcomplete-2.1.2-py3-none-any.whl (37 kB)\n",
      "Collecting packaging<=23.0,>=20.0\n",
      "  Downloading packaging-23.0-py3-none-any.whl (42 kB)\n",
      "     ━━━━━━━━━━━━━━━━━━━━━━━━━━━━━━━━━━━━━━━━ 42.7/42.7 kB 11.0 MB/s eta 0:00:00\n",
      "Collecting ndg-httpsclient<=0.5.1\n",
      "  Downloading ndg_httpsclient-0.5.1-py3-none-any.whl (34 kB)\n",
      "Collecting msal-extensions<=1.0.0,>=0.3.0\n",
      "  Downloading msal_extensions-1.0.0-py2.py3-none-any.whl (19 kB)\n",
      "Collecting azure-graphrbac<1.0.0,>=0.40.0\n",
      "  Downloading azure_graphrbac-0.61.1-py2.py3-none-any.whl (141 kB)\n",
      "     ━━━━━━━━━━━━━━━━━━━━━━━━━━━━━━━━━━━━━━━ 141.4/141.4 kB 7.0 MB/s eta 0:00:00\n",
      "Collecting msrestazure<=0.6.4,>=0.4.33\n",
      "  Downloading msrestazure-0.6.4-py2.py3-none-any.whl (40 kB)\n",
      "     ━━━━━━━━━━━━━━━━━━━━━━━━━━━━━━━━━━━━━━━━ 40.5/40.5 kB 7.4 MB/s eta 0:00:00\n",
      "Collecting azure-common<2.0.0,>=1.1.12\n",
      "  Downloading azure_common-1.1.28-py2.py3-none-any.whl (14 kB)\n",
      "Collecting pyopenssl<24.0.0\n",
      "  Downloading pyOpenSSL-23.3.0-py3-none-any.whl (58 kB)\n",
      "     ━━━━━━━━━━━━━━━━━━━━━━━━━━━━━━━━━━━━━━━━ 58.8/58.8 kB 3.7 MB/s eta 0:00:00\n",
      "Collecting knack~=0.10.0\n",
      "  Downloading knack-0.10.1-py3-none-any.whl (61 kB)\n",
      "     ━━━━━━━━━━━━━━━━━━━━━━━━━━━━━━━━━━━━━━━━ 61.1/61.1 kB 4.8 MB/s eta 0:00:00\n",
      "Collecting azure-mgmt-containerregistry<11,>=8.2.0\n",
      "  Downloading azure_mgmt_containerregistry-10.3.0-py3-none-any.whl (2.3 MB)\n",
      "     ━━━━━━━━━━━━━━━━━━━━━━━━━━━━━━━━━━━━━━━━ 2.3/2.3 MB 6.2 MB/s eta 0:00:00\n",
      "Collecting azure-mgmt-network==21.0.1\n",
      "  Downloading azure_mgmt_network-21.0.1-py3-none-any.whl (8.9 MB)\n",
      "     ━━━━━━━━━━━━━━━━━━━━━━━━━━━━━━━━━━━━━━━━ 8.9/8.9 MB 7.4 MB/s eta 0:00:00\n",
      "Collecting azure-mgmt-storage<=21.0.0,>=16.0.0\n",
      "  Downloading azure_mgmt_storage-21.0.0-py3-none-any.whl (2.8 MB)\n",
      "     ━━━━━━━━━━━━━━━━━━━━━━━━━━━━━━━━━━━━━━━━ 2.8/2.8 MB 7.1 MB/s eta 0:00:00\n",
      "Collecting humanfriendly<11.0,>=4.7\n",
      "  Downloading humanfriendly-10.0-py2.py3-none-any.whl (86 kB)\n",
      "     ━━━━━━━━━━━━━━━━━━━━━━━━━━━━━━━━━━━━━━━━ 86.8/86.8 kB 8.9 MB/s eta 0:00:00\n",
      "Collecting msrest<=0.7.1,>=0.5.1\n",
      "  Downloading msrest-0.7.1-py3-none-any.whl (85 kB)\n",
      "     ━━━━━━━━━━━━━━━━━━━━━━━━━━━━━━━━━━━━━━━━ 85.4/85.4 kB 12.9 MB/s eta 0:00:00\n",
      "Collecting pathspec<1.0.0\n",
      "  Downloading pathspec-0.12.1-py3-none-any.whl (31 kB)\n",
      "Collecting azure-core<2.0.0\n",
      "  Downloading azure_core-1.30.1-py3-none-any.whl (193 kB)\n",
      "     ━━━━━━━━━━━━━━━━━━━━━━━━━━━━━━━━━━━━━━ 193.4/193.4 kB 11.5 MB/s eta 0:00:00\n",
      "Collecting contextlib2<22.0.0\n",
      "  Downloading contextlib2-21.6.0-py2.py3-none-any.whl (13 kB)\n",
      "Collecting msal<2.0.0,>=1.15.0\n",
      "  Downloading msal-1.28.0-py3-none-any.whl (102 kB)\n",
      "     ━━━━━━━━━━━━━━━━━━━━━━━━━━━━━━━━━━━━━━ 102.2/102.2 kB 13.5 MB/s eta 0:00:00\n",
      "Collecting backports.tempfile\n",
      "  Downloading backports.tempfile-1.0-py2.py3-none-any.whl (4.4 kB)\n",
      "Collecting adal<=1.2.7,>=1.2.0\n",
      "  Downloading adal-1.2.7-py2.py3-none-any.whl (55 kB)\n",
      "     ━━━━━━━━━━━━━━━━━━━━━━━━━━━━━━━━━━━━━━━━ 55.5/55.5 kB 11.9 MB/s eta 0:00:00\n",
      "Collecting azure-mgmt-core<2.0.0,>=1.3.1\n",
      "  Downloading azure_mgmt_core-1.4.0-py3-none-any.whl (27 kB)\n",
      "Collecting azureml-dataprep<4.14.0a,>=4.12.0a\n",
      "  Downloading azureml_dataprep-4.12.10-py3-none-any.whl (38.2 MB)\n",
      "     ━━━━━━━━━━━━━━━━━━━━━━━━━━━━━━━━━━━━━━━━ 38.2/38.2 MB 11.0 MB/s eta 0:00:00\n",
      "Collecting pyarrow<=11.0.0,>=0.17.0\n",
      "  Downloading pyarrow-11.0.0-cp39-cp39-manylinux_2_17_x86_64.manylinux2014_x86_64.whl (34.9 MB)\n",
      "     ━━━━━━━━━━━━━━━━━━━━━━━━━━━━━━━━━━━━━━━━ 34.9/34.9 MB 13.6 MB/s eta 0:00:00\n",
      "Collecting fusepy<4.0.0,>=3.0.1\n",
      "  Downloading fusepy-3.0.1.tar.gz (11 kB)\n",
      "  Preparing metadata (setup.py): started\n",
      "  Preparing metadata (setup.py): finished with status 'done'\n",
      "Collecting pydantic<1.11,>=1.9\n",
      "  Downloading pydantic-1.10.15-cp39-cp39-manylinux_2_17_x86_64.manylinux2014_x86_64.whl (3.2 MB)\n",
      "     ━━━━━━━━━━━━━━━━━━━━━━━━━━━━━━━━━━━━━━━━ 3.2/3.2 MB 15.1 MB/s eta 0:00:00\n",
      "Collecting azureml-inference-server-http~=0.8.0\n",
      "  Downloading azureml_inference_server_http-0.8.4.1-py3-none-any.whl (43 kB)\n",
      "     ━━━━━━━━━━━━━━━━━━━━━━━━━━━━━━━━━━━━━━━━ 43.5/43.5 kB 15.8 MB/s eta 0:00:00\n",
      "Collecting gunicorn==20.1.0\n",
      "  Downloading gunicorn-20.1.0-py3-none-any.whl (79 kB)\n",
      "     ━━━━━━━━━━━━━━━━━━━━━━━━━━━━━━━━━━━━━━━━ 79.5/79.5 kB 19.4 MB/s eta 0:00:00\n",
      "Collecting opencensus-ext-azure~=1.1.0\n",
      "  Downloading opencensus_ext_azure-1.1.13-py2.py3-none-any.whl (43 kB)\n",
      "     ━━━━━━━━━━━━━━━━━━━━━━━━━━━━━━━━━━━━━━━━ 43.4/43.4 kB 8.3 MB/s eta 0:00:00\n",
      "Collecting flask-cors~=3.0.1\n",
      "  Downloading Flask_Cors-3.0.10-py2.py3-none-any.whl (14 kB)\n",
      "Collecting flask<2.3.0\n",
      "  Downloading Flask-2.2.5-py3-none-any.whl (101 kB)\n",
      "     ━━━━━━━━━━━━━━━━━━━━━━━━━━━━━━━━━━━━━━ 101.8/101.8 kB 20.5 MB/s eta 0:00:00\n",
      "Requirement already satisfied: setuptools>=3.0 in /opt/miniconda/envs/inf-conda-env/lib/python3.9/site-packages (from gunicorn==20.1.0->azureml-inference-server-http~=0.8.0->azureml-defaults==1.53.0->-r /var/azureml-app/condaenv.8xhjhoyj.requirements.txt (line 1)) (70.0.0)\n",
      "Collecting six>=1.5\n",
      "  Downloading six-1.16.0-py2.py3-none-any.whl (11 kB)\n",
      "Collecting typing-extensions>=4.6.0\n",
      "  Downloading typing_extensions-4.12.0-py3-none-any.whl (37 kB)\n",
      "Collecting isodate<1.0.0,>=0.6.1\n",
      "  Downloading isodate-0.6.1-py2.py3-none-any.whl (41 kB)\n",
      "     ━━━━━━━━━━━━━━━━━━━━━━━━━━━━━━━━━━━━━━━━ 41.7/41.7 kB 15.5 MB/s eta 0:00:00\n",
      "Collecting cloudpickle<3.0.0,>=1.1.0\n",
      "  Downloading cloudpickle-2.2.1-py3-none-any.whl (25 kB)\n",
      "Collecting azureml-dataprep-rslex~=2.19.7dev0\n",
      "  Downloading azureml_dataprep_rslex-2.19.8-cp39-cp39-manylinux_2_17_x86_64.manylinux2014_x86_64.whl (23.5 MB)\n",
      "     ━━━━━━━━━━━━━━━━━━━━━━━━━━━━━━━━━━━━━━━━ 23.5/23.5 MB 14.9 MB/s eta 0:00:00\n",
      "Collecting azure-identity>=1.7.0\n",
      "  Downloading azure_identity-1.16.0-py3-none-any.whl (166 kB)\n",
      "     ━━━━━━━━━━━━━━━━━━━━━━━━━━━━━━━━━━━━━━ 166.1/166.1 kB 22.7 MB/s eta 0:00:00\n",
      "Collecting dotnetcore2<4.0.0,>=3.0.0\n",
      "  Downloading dotnetcore2-3.1.23-py3-none-manylinux1_x86_64.whl (31.1 MB)\n",
      "     ━━━━━━━━━━━━━━━━━━━━━━━━━━━━━━━━━━━━━━━━ 31.1/31.1 MB 13.7 MB/s eta 0:00:00\n",
      "Collecting azureml-dataprep-native<39.0.0,>=38.0.0\n",
      "  Downloading azureml_dataprep_native-38.0.0-cp39-cp39-manylinux1_x86_64.whl (186 kB)\n",
      "     ━━━━━━━━━━━━━━━━━━━━━━━━━━━━━━━━━━━━━━ 186.2/186.2 kB 31.0 MB/s eta 0:00:00\n",
      "Collecting jsonschema\n",
      "  Downloading jsonschema-4.22.0-py3-none-any.whl (88 kB)\n",
      "     ━━━━━━━━━━━━━━━━━━━━━━━━━━━━━━━━━━━━━━━━ 88.3/88.3 kB 7.3 MB/s eta 0:00:00\n",
      "Collecting pyyaml<7.0.0,>=5.1.0\n",
      "  Downloading PyYAML-6.0.1-cp39-cp39-manylinux_2_17_x86_64.manylinux2014_x86_64.whl (738 kB)\n",
      "     ━━━━━━━━━━━━━━━━━━━━━━━━━━━━━━━━━━━━━━ 738.9/738.9 kB 26.4 MB/s eta 0:00:00\n",
      "Collecting cffi>=1.12\n",
      "  Downloading cffi-1.16.0-cp39-cp39-manylinux_2_17_x86_64.manylinux2014_x86_64.whl (443 kB)\n",
      "     ━━━━━━━━━━━━━━━━━━━━━━━━━━━━━━━━━━━━━━ 443.4/443.4 kB 26.4 MB/s eta 0:00:00\n",
      "Collecting websocket-client>=0.32.0\n",
      "  Downloading websocket_client-1.8.0-py3-none-any.whl (58 kB)\n",
      "     ━━━━━━━━━━━━━━━━━━━━━━━━━━━━━━━━━━━━━━━━ 58.8/58.8 kB 13.9 MB/s eta 0:00:00\n",
      "Collecting Jinja2>=3.0\n",
      "  Downloading jinja2-3.1.4-py3-none-any.whl (133 kB)\n",
      "     ━━━━━━━━━━━━━━━━━━━━━━━━━━━━━━━━━━━━━━ 133.3/133.3 kB 26.7 MB/s eta 0:00:00\n",
      "Collecting click>=8.0\n",
      "  Downloading click-8.1.7-py3-none-any.whl (97 kB)\n",
      "     ━━━━━━━━━━━━━━━━━━━━━━━━━━━━━━━━━━━━━━━━ 97.9/97.9 kB 17.4 MB/s eta 0:00:00\n",
      "Collecting importlib-metadata>=3.6.0\n",
      "  Downloading importlib_metadata-7.1.0-py3-none-any.whl (24 kB)\n",
      "Collecting Werkzeug>=2.2.2\n",
      "  Downloading werkzeug-3.0.3-py3-none-any.whl (227 kB)\n",
      "     ━━━━━━━━━━━━━━━━━━━━━━━━━━━━━━━━━━━━━━ 227.3/227.3 kB 19.2 MB/s eta 0:00:00\n",
      "Collecting itsdangerous>=2.0\n",
      "  Downloading itsdangerous-2.2.0-py3-none-any.whl (16 kB)\n",
      "Collecting pygments\n",
      "  Downloading pygments-2.18.0-py3-none-any.whl (1.2 MB)\n",
      "     ━━━━━━━━━━━━━━━━━━━━━━━━━━━━━━━━━━━━━━━━ 1.2/1.2 MB 27.0 MB/s eta 0:00:00\n",
      "Collecting tabulate\n",
      "  Downloading tabulate-0.9.0-py3-none-any.whl (35 kB)\n",
      "Collecting portalocker<3,>=1.0\n",
      "  Downloading portalocker-2.8.2-py3-none-any.whl (17 kB)\n",
      "Collecting requests-oauthlib>=0.5.0\n",
      "  Downloading requests_oauthlib-2.0.0-py2.py3-none-any.whl (24 kB)\n",
      "Requirement already satisfied: certifi>=2017.4.17 in /opt/miniconda/envs/inf-conda-env/lib/python3.9/site-packages (from msrest<=0.7.1,>=0.5.1->azureml-core~=1.53.0->azureml-defaults==1.53.0->-r /var/azureml-app/condaenv.8xhjhoyj.requirements.txt (line 1)) (2024.2.2)\n",
      "Collecting pyasn1>=0.1.1\n",
      "  Downloading pyasn1-0.6.0-py2.py3-none-any.whl (85 kB)\n",
      "     ━━━━━━━━━━━━━━━━━━━━━━━━━━━━━━━━━━━━━━━━ 85.3/85.3 kB 17.6 MB/s eta 0:00:00\n",
      "Collecting psutil>=5.6.3\n",
      "  Downloading psutil-5.9.8-cp36-abi3-manylinux_2_12_x86_64.manylinux2010_x86_64.manylinux_2_17_x86_64.manylinux2014_x86_64.whl (288 kB)\n",
      "     ━━━━━━━━━━━━━━━━━━━━━━━━━━━━━━━━━━━━━━ 288.2/288.2 kB 22.7 MB/s eta 0:00:00\n",
      "Collecting opencensus<1.0.0,>=0.11.4\n",
      "  Downloading opencensus-0.11.4-py2.py3-none-any.whl (128 kB)\n",
      "     ━━━━━━━━━━━━━━━━━━━━━━━━━━━━━━━━━━━━━━ 128.2/128.2 kB 39.0 MB/s eta 0:00:00\n",
      "Collecting bcrypt>=3.2\n",
      "  Downloading bcrypt-4.1.3-cp39-abi3-manylinux_2_28_x86_64.whl (283 kB)\n",
      "     ━━━━━━━━━━━━━━━━━━━━━━━━━━━━━━━━━━━━━━ 283.7/283.7 kB 27.7 MB/s eta 0:00:00\n",
      "Collecting pynacl>=1.5\n",
      "  Downloading PyNaCl-1.5.0-cp36-abi3-manylinux_2_17_x86_64.manylinux2014_x86_64.manylinux_2_24_x86_64.whl (856 kB)\n",
      "     ━━━━━━━━━━━━━━━━━━━━━━━━━━━━━━━━━━━━━━ 856.7/856.7 kB 15.9 MB/s eta 0:00:00\n",
      "Collecting cryptography!=1.9,!=2.0.*,!=2.1.*,!=2.2.*\n",
      "  Downloading cryptography-41.0.7-cp37-abi3-manylinux_2_28_x86_64.whl (4.4 MB)\n",
      "     ━━━━━━━━━━━━━━━━━━━━━━━━━━━━━━━━━━━━━━━━ 4.4/4.4 MB 21.4 MB/s eta 0:00:00\n",
      "Requirement already satisfied: charset-normalizer<4,>=2 in /opt/miniconda/envs/inf-conda-env/lib/python3.9/site-packages (from requests[socks]<3.0.0,>=2.19.1->azureml-core~=1.53.0->azureml-defaults==1.53.0->-r /var/azureml-app/condaenv.8xhjhoyj.requirements.txt (line 1)) (3.3.2)\n",
      "Requirement already satisfied: idna<4,>=2.5 in /opt/miniconda/envs/inf-conda-env/lib/python3.9/site-packages (from requests[socks]<3.0.0,>=2.19.1->azureml-core~=1.53.0->azureml-defaults==1.53.0->-r /var/azureml-app/condaenv.8xhjhoyj.requirements.txt (line 1)) (3.7)\n",
      "Requirement already satisfied: PySocks!=1.5.7,>=1.5.6 in /opt/miniconda/envs/inf-conda-env/lib/python3.9/site-packages (from requests[socks]<3.0.0,>=2.19.1->azureml-core~=1.53.0->azureml-defaults==1.53.0->-r /var/azureml-app/condaenv.8xhjhoyj.requirements.txt (line 1)) (1.7.1)\n",
      "Collecting jeepney>=0.6\n",
      "  Downloading jeepney-0.8.0-py3-none-any.whl (48 kB)\n",
      "     ━━━━━━━━━━━━━━━━━━━━━━━━━━━━━━━━━━━━━━━━ 48.4/48.4 kB 20.2 MB/s eta 0:00:00\n",
      "Collecting backports.weakref\n",
      "  Downloading backports.weakref-1.0.post1-py2.py3-none-any.whl (5.2 kB)\n",
      "Collecting pycparser\n",
      "  Downloading pycparser-2.22-py3-none-any.whl (117 kB)\n",
      "     ━━━━━━━━━━━━━━━━━━━━━━━━━━━━━━━━━━━━━━ 117.6/117.6 kB 35.3 MB/s eta 0:00:00\n",
      "Collecting distro>=1.2.0\n",
      "  Downloading distro-1.9.0-py3-none-any.whl (20 kB)\n",
      "Collecting zipp>=0.5\n",
      "  Downloading zipp-3.18.2-py3-none-any.whl (8.3 kB)\n",
      "Collecting MarkupSafe>=2.0\n",
      "  Downloading MarkupSafe-2.1.5-cp39-cp39-manylinux_2_17_x86_64.manylinux2014_x86_64.whl (25 kB)\n",
      "Collecting google-api-core<3.0.0,>=1.0.0\n",
      "  Downloading google_api_core-2.19.0-py3-none-any.whl (139 kB)\n",
      "     ━━━━━━━━━━━━━━━━━━━━━━━━━━━━━━━━━━━━━━ 139.0/139.0 kB 28.2 MB/s eta 0:00:00\n",
      "Collecting opencensus-context>=0.1.3\n",
      "  Downloading opencensus_context-0.1.3-py2.py3-none-any.whl (5.1 kB)\n",
      "Collecting oauthlib>=3.0.0\n",
      "  Downloading oauthlib-3.2.2-py3-none-any.whl (151 kB)\n",
      "     ━━━━━━━━━━━━━━━━━━━━━━━━━━━━━━━━━━━━━━ 151.7/151.7 kB 22.1 MB/s eta 0:00:00\n",
      "Collecting attrs>=22.2.0\n",
      "  Downloading attrs-23.2.0-py3-none-any.whl (60 kB)\n",
      "     ━━━━━━━━━━━━━━━━━━━━━━━━━━━━━━━━━━━━━━━━ 60.8/60.8 kB 21.8 MB/s eta 0:00:00\n",
      "Collecting rpds-py>=0.7.1\n",
      "  Downloading rpds_py-0.18.1-cp39-cp39-manylinux_2_17_x86_64.manylinux2014_x86_64.whl (1.1 MB)\n",
      "     ━━━━━━━━━━━━━━━━━━━━━━━━━━━━━━━━━━━━━━━━ 1.1/1.1 MB 33.5 MB/s eta 0:00:00\n",
      "Collecting jsonschema-specifications>=2023.03.6\n",
      "  Downloading jsonschema_specifications-2023.12.1-py3-none-any.whl (18 kB)\n",
      "Collecting referencing>=0.28.4\n",
      "  Downloading referencing-0.35.1-py3-none-any.whl (26 kB)\n",
      "Collecting googleapis-common-protos<2.0.dev0,>=1.56.2\n",
      "  Downloading googleapis_common_protos-1.63.0-py2.py3-none-any.whl (229 kB)\n",
      "     ━━━━━━━━━━━━━━━━━━━━━━━━━━━━━━━━━━━━━━ 229.1/229.1 kB 31.0 MB/s eta 0:00:00\n",
      "Collecting google-auth<3.0.dev0,>=2.14.1\n",
      "  Downloading google_auth-2.29.0-py2.py3-none-any.whl (189 kB)\n",
      "     ━━━━━━━━━━━━━━━━━━━━━━━━━━━━━━━━━━━━━━ 189.2/189.2 kB 32.8 MB/s eta 0:00:00\n",
      "Collecting protobuf!=3.20.0,!=3.20.1,!=4.21.0,!=4.21.1,!=4.21.2,!=4.21.3,!=4.21.4,!=4.21.5,<5.0.0.dev0,>=3.19.5\n",
      "  Downloading protobuf-4.25.3-cp37-abi3-manylinux2014_x86_64.whl (294 kB)\n",
      "     ━━━━━━━━━━━━━━━━━━━━━━━━━━━━━━━━━━━━━━ 294.6/294.6 kB 27.2 MB/s eta 0:00:00\n",
      "Collecting proto-plus<2.0.0dev,>=1.22.3\n",
      "  Downloading proto_plus-1.23.0-py3-none-any.whl (48 kB)\n",
      "     ━━━━━━━━━━━━━━━━━━━━━━━━━━━━━━━━━━━━━━━━ 48.8/48.8 kB 15.8 MB/s eta 0:00:00\n",
      "Collecting cachetools<6.0,>=2.0.0\n",
      "  Downloading cachetools-5.3.3-py3-none-any.whl (9.3 kB)\n",
      "Collecting pyasn1-modules>=0.2.1\n",
      "  Downloading pyasn1_modules-0.4.0-py3-none-any.whl (181 kB)\n",
      "     ━━━━━━━━━━━━━━━━━━━━━━━━━━━━━━━━━━━━━━ 181.2/181.2 kB 31.2 MB/s eta 0:00:00\n",
      "Collecting rsa<5,>=3.1.4\n",
      "  Downloading rsa-4.9-py3-none-any.whl (34 kB)\n",
      "Building wheels for collected packages: wrapt, fusepy\n",
      "  Building wheel for wrapt (setup.py): started\n",
      "  Building wheel for wrapt (setup.py): finished with status 'done'\n",
      "  Created wheel for wrapt: filename=wrapt-1.12.1-cp39-cp39-linux_x86_64.whl size=36967 sha256=096c00b1fbed3d419fb9cce52a86c1cfe551ff876f94ab9ae5622d80268e50e1\n",
      "  Stored in directory: /root/.cache/pip/wheels/98/23/68/efe259aaca055e93b08e74fbe512819c69a2155c11ba3c0f10\n",
      "  Building wheel for fusepy (setup.py): started\n",
      "  Building wheel for fusepy (setup.py): finished with status 'done'\n",
      "  Created wheel for fusepy: filename=fusepy-3.0.1-py3-none-any.whl size=10487 sha256=2b73aec16b53da5b57573ffa6e2bc89a6c3c9a1ff05301a5c96da59b3fb406f9\n",
      "  Stored in directory: /root/.cache/pip/wheels/d5/60/5d/807081f971b004ab5c86eba746c6b5e72d0258215bf2425d68\n",
      "Successfully built wrapt fusepy\n",
      "Installing collected packages: wrapt, pytz, opencensus-context, fusepy, backports.weakref, azureml-dataprep-rslex, azureml-dataprep-native, azure-common, zipp, websocket-client, urllib3, typing-extensions, tabulate, six, rpds-py, pyyaml, PyJWT, pygments, pycparser, pyasn1, pyarrow, psutil, protobuf, portalocker, pkginfo, pathspec, packaging, oauthlib, MarkupSafe, jsonpickle, joblib, jmespath, jeepney, itsdangerous, humanfriendly, gunicorn, distro, contextlib2, cloudpickle, click, cachetools, bcrypt, backports.tempfile, attrs, argcomplete, Werkzeug, rsa, referencing, python-dateutil, pydantic, pyasn1-modules, proto-plus, knack, Jinja2, isodate, importlib-metadata, googleapis-common-protos, dotnetcore2, cffi, requests-oauthlib, pynacl, jsonschema-specifications, inference-schema, google-auth, flask, docker, cryptography, azure-core, SecretStorage, pyopenssl, paramiko, msrest, jsonschema, google-api-core, flask-cors, azure-mgmt-core, adal, opencensus, ndg-httpsclient, msrestazure, msal, azure-mgmt-storage, azure-mgmt-resource, azure-mgmt-network, azure-mgmt-keyvault, azure-mgmt-containerregistry, azure-mgmt-authorization, msal-extensions, azure-graphrbac, azureml-core, azure-identity, opencensus-ext-azure, azureml-dataprep, azureml-inference-server-http, azureml-dataset-runtime, azureml-defaults\n",
      "  Attempting uninstall: urllib3\n",
      "    Found existing installation: urllib3 2.2.1\n",
      "    Uninstalling urllib3-2.2.1:\n",
      "      Successfully uninstalled urllib3-2.2.1\n",
      "  Attempting uninstall: packaging\n",
      "    Found existing installation: packaging 24.0\n",
      "    Uninstalling packaging-24.0:\n",
      "      Successfully uninstalled packaging-24.0\n",
      "  Attempting uninstall: joblib\n",
      "    Found existing installation: joblib 1.4.2\n",
      "    Uninstalling joblib-1.4.2:\n",
      "      Successfully uninstalled joblib-1.4.2\n",
      "Successfully installed Jinja2-3.1.4 MarkupSafe-2.1.5 PyJWT-2.8.0 SecretStorage-3.3.3 Werkzeug-3.0.3 adal-1.2.7 argcomplete-2.1.2 attrs-23.2.0 azure-common-1.1.28 azure-core-1.30.1 azure-graphrbac-0.61.1 azure-identity-1.16.0 azure-mgmt-authorization-3.0.0 azure-mgmt-containerregistry-10.3.0 azure-mgmt-core-1.4.0 azure-mgmt-keyvault-10.3.0 azure-mgmt-network-21.0.1 azure-mgmt-resource-22.0.0 azure-mgmt-storage-21.0.0 azureml-core-1.53.0 azureml-dataprep-4.12.10 azureml-dataprep-native-38.0.0 azureml-dataprep-rslex-2.19.8 azureml-dataset-runtime-1.53.0 azureml-defaults-1.53.0 azureml-inference-server-http-0.8.4.1 backports.tempfile-1.0 backports.weakref-1.0.post1 bcrypt-4.1.3 cachetools-5.3.3 cffi-1.16.0 click-8.1.7 cloudpickle-2.2.1 contextlib2-21.6.0 cryptography-41.0.7 distro-1.9.0 docker-6.1.3 dotnetcore2-3.1.23 flask-2.2.5 flask-cors-3.0.10 fusepy-3.0.1 google-api-core-2.19.0 google-auth-2.29.0 googleapis-common-protos-1.63.0 gunicorn-20.1.0 humanfriendly-10.0 importlib-metadata-7.1.0 inference-schema-1.5.1 isodate-0.6.1 itsdangerous-2.2.0 jeepney-0.8.0 jmespath-1.0.1 joblib-1.2.0 jsonpickle-3.0.4 jsonschema-4.22.0 jsonschema-specifications-2023.12.1 knack-0.10.1 msal-1.28.0 msal-extensions-1.0.0 msrest-0.7.1 msrestazure-0.6.4 ndg-httpsclient-0.5.1 oauthlib-3.2.2 opencensus-0.11.4 opencensus-context-0.1.3 opencensus-ext-azure-1.1.13 packaging-23.0 paramiko-3.4.0 pathspec-0.12.1 pkginfo-1.10.0 portalocker-2.8.2 proto-plus-1.23.0 protobuf-4.25.3 psutil-5.9.8 pyarrow-11.0.0 pyasn1-0.6.0 pyasn1-modules-0.4.0 pycparser-2.22 pydantic-1.10.15 pygments-2.18.0 pynacl-1.5.0 pyopenssl-23.3.0 python-dateutil-2.9.0.post0 pytz-2024.1 pyyaml-6.0.1 referencing-0.35.1 requests-oauthlib-2.0.0 rpds-py-0.18.1 rsa-4.9 six-1.16.0 tabulate-0.9.0 typing-extensions-4.12.0 urllib3-1.26.18 websocket-client-1.8.0 wrapt-1.12.1 zipp-3.18.2\n",
      "\n",
      "done\n",
      "#\n",
      "# To activate this environment, use\n",
      "#\n",
      "#     $ conda activate inf-conda-env\n",
      "#\n",
      "# To deactivate an active environment, use\n",
      "#\n",
      "#     $ conda deactivate\n",
      "\n",
      "..... ---> 628e6b2119a2\n",
      "Step 6/6 : CMD [\"conda\", \"run\", \"--no-capture-output\", \"-n\", \"inf-conda-env\", \"runsvdir\", \"/var/runit\"]\n",
      " ---> [Warning] The requested image's platform (linux/amd64) does not match the detected host platform (linux/arm64/v8) and no specific platform was requested\n",
      " ---> Running in 763b6d889e5f\n",
      " ---> 7df54763c095\n",
      "Successfully built 7df54763c095\n",
      "Successfully tagged xgboost-model-endpoint-2e60ced8:blue\n",
      "\n",
      "Starting up endpoint...Done (2m 35s)\n"
     ]
    }
   ],
   "source": [
    "# model = ml_client.models.get(name=REGISTERED_MODEL_NAME, version=latest_model_version)\n",
    "local_model = Model(path=\"../deploy/assets/xgboost_model.json\")\n",
    "\n",
    "blue_deployment = ManagedOnlineDeployment(\n",
    "    name=\"blue\",\n",
    "    endpoint_name=online_endpoint_name,\n",
    "    model=local_model,\n",
    "    instance_type=\"Standard_DS3_v2\",\n",
    "    instance_count=1,\n",
    "    code_configuration=CodeConfiguration(\n",
    "        code=\"../deploy/\", \n",
    "        scoring_script=\"score.py\"\n",
    "    ),\n",
    "    environment=env\n",
    ")\n",
    "\n",
    "blue_deployment = ml_client.online_deployments.begin_create_or_update(\n",
    "        deployment=blue_deployment, local=True\n",
    ") "
   ]
  },
  {
   "cell_type": "markdown",
   "metadata": {},
   "source": [
    "### Check the status\n",
    "Checking to see whether the model was deployed without error "
   ]
  },
  {
   "cell_type": "code",
   "execution_count": 18,
   "metadata": {},
   "outputs": [
    {
     "data": {
      "text/plain": [
       "ManagedOnlineEndpoint({'public_network_access': None, 'provisioning_state': 'Succeeded', 'scoring_uri': 'http://localhost:55005/score', 'openapi_uri': None, 'name': 'xgboost-model-endpoint-2e60ced8', 'description': \"this is an online endpoint for the xgboost model and it's great!\", 'tags': {'training_dataset': 'sklearn_iris'}, 'properties': {}, 'print_as_yaml': False, 'id': None, 'Resource__source_path': '', 'base_path': PosixPath('/Users/ben.dixon/Repos/azure-experiments/deploy'), 'creation_context': None, 'serialize': <msrest.serialization.Serializer object at 0x1465ca1f0>, 'auth_mode': 'key', 'location': 'local', 'identity': None, 'traffic': {}, 'mirror_traffic': {}, 'kind': None})"
      ]
     },
     "execution_count": 18,
     "metadata": {},
     "output_type": "execute_result"
    }
   ],
   "source": [
    "ml_client.online_endpoints.get(name=online_endpoint_name, local=True)"
   ]
  },
  {
   "cell_type": "markdown",
   "metadata": {},
   "source": [
    "The sample xgboost request is the first four values from the test set. "
   ]
  },
  {
   "cell_type": "code",
   "execution_count": 19,
   "metadata": {},
   "outputs": [
    {
     "data": {
      "text/plain": [
       "'[1, 0, 2, 1]'"
      ]
     },
     "execution_count": 19,
     "metadata": {},
     "output_type": "execute_result"
    }
   ],
   "source": [
    "ml_client.online_endpoints.invoke(\n",
    "    endpoint_name=online_endpoint_name,\n",
    "    request_file=\"assets/xgboost-request.json\",\n",
    "    local=True,\n",
    ")"
   ]
  },
  {
   "cell_type": "code",
   "execution_count": 41,
   "metadata": {},
   "outputs": [
    {
     "name": "stdout",
     "output_type": "stream",
     "text": [
      "(30, 4)\n",
      "Fitting model\n",
      "Making predictions\n",
      "Mean squared error: 0.00\n",
      "Saving model\n",
      "Predictions on test set [1, 0, 2, 1]\n"
     ]
    }
   ],
   "source": [
    "!python ../src/train-xgboost.py"
   ]
  },
  {
   "cell_type": "markdown",
   "metadata": {},
   "source": [
    "Success, these two match!"
   ]
  },
  {
   "cell_type": "markdown",
   "metadata": {},
   "source": [
    "## Deploy your online endpoint to Azure\n",
    "\n",
    "Change to using registered model. "
   ]
  },
  {
   "cell_type": "code",
   "execution_count": 23,
   "metadata": {},
   "outputs": [
    {
     "data": {
      "text/plain": [
       "ManagedOnlineEndpoint({'public_network_access': 'Enabled', 'provisioning_state': 'Succeeded', 'scoring_uri': 'https://xgboost-model-endpoint-2e60ced8.ukwest.inference.ml.azure.com/score', 'openapi_uri': 'https://xgboost-model-endpoint-2e60ced8.ukwest.inference.ml.azure.com/swagger.json', 'name': 'xgboost-model-endpoint-2e60ced8', 'description': \"this is an online endpoint for the xgboost model and it's great!\", 'tags': {'training_dataset': 'sklearn_iris'}, 'properties': {'createdBy': 'Ben Dixon', 'createdAt': '2024-05-24T15:47:06.025023+0000', 'lastModifiedAt': '2024-05-24T15:47:06.025023+0000', 'azureml.onlineendpointid': '/subscriptions/3979595d-b401-4ff4-b3ef-661b8481c742/resourcegroups/aiplatform-1/providers/microsoft.machinelearningservices/workspaces/ai-mlw-dev-01/onlineendpoints/xgboost-model-endpoint-2e60ced8', 'AzureAsyncOperationUri': 'https://management.azure.com/subscriptions/3979595d-b401-4ff4-b3ef-661b8481c742/providers/Microsoft.MachineLearningServices/locations/ukwest/mfeOperationsStatus/oe:3a3fd522-5898-4524-9e4b-7f1074ac8ae4:3cea8d04-8942-4bf1-9693-45520f76e51e?api-version=2022-02-01-preview'}, 'print_as_yaml': False, 'id': '/subscriptions/3979595d-b401-4ff4-b3ef-661b8481c742/resourceGroups/aiplatform-1/providers/Microsoft.MachineLearningServices/workspaces/ai-mlw-dev-01/onlineEndpoints/xgboost-model-endpoint-2e60ced8', 'Resource__source_path': '', 'base_path': '/Users/ben.dixon/Repos/azure-experiments/deploy', 'creation_context': None, 'serialize': <msrest.serialization.Serializer object at 0x1465bb100>, 'auth_mode': 'key', 'location': 'ukwest', 'identity': <azure.ai.ml.entities._credentials.IdentityConfiguration object at 0x1465ca970>, 'traffic': {}, 'mirror_traffic': {}, 'kind': 'Managed'})"
      ]
     },
     "execution_count": 23,
     "metadata": {},
     "output_type": "execute_result"
    }
   ],
   "source": [
    "ml_client.online_endpoints.begin_create_or_update(endpoint).result() # takes approximately 2 minutes."
   ]
  },
  {
   "cell_type": "code",
   "execution_count": 28,
   "metadata": {},
   "outputs": [
    {
     "name": "stderr",
     "output_type": "stream",
     "text": [
      "Check: endpoint xgboost-model-endpoint-2e60ced8 exists\n"
     ]
    },
    {
     "name": "stdout",
     "output_type": "stream",
     "text": [
      "..........."
     ]
    }
   ],
   "source": [
    "model = ml_client.models.get(name=REGISTERED_MODEL_NAME, version=latest_model_version)\n",
    "#local_model = Model(path=\"../deploy/assets/xgboost_model.json\")\n",
    "\n",
    "blue_deployment = ManagedOnlineDeployment(\n",
    "    name=\"blue\",\n",
    "    endpoint_name=online_endpoint_name,\n",
    "    model=model,\n",
    "    instance_type=\"Standard_DS3_v2\",\n",
    "    instance_count=1,\n",
    "    code_configuration=CodeConfiguration(\n",
    "        code=\"../deploy/\", \n",
    "        scoring_script=\"score.py\"\n",
    "    ),\n",
    "    environment=env\n",
    ")\n",
    "\n",
    "blue_deployment = ml_client.online_deployments.begin_create_or_update(\n",
    "        deployment=blue_deployment\n",
    ").result()"
   ]
  },
  {
   "cell_type": "code",
   "execution_count": 29,
   "metadata": {},
   "outputs": [
    {
     "data": {
      "text/plain": [
       "ManagedOnlineEndpoint({'public_network_access': 'Enabled', 'provisioning_state': 'Succeeded', 'scoring_uri': 'https://xgboost-model-endpoint-2e60ced8.ukwest.inference.ml.azure.com/score', 'openapi_uri': 'https://xgboost-model-endpoint-2e60ced8.ukwest.inference.ml.azure.com/swagger.json', 'name': 'xgboost-model-endpoint-2e60ced8', 'description': \"this is an online endpoint for the xgboost model and it's great!\", 'tags': {'training_dataset': 'sklearn_iris'}, 'properties': {'createdBy': 'Ben Dixon', 'createdAt': '2024-05-24T15:47:06.025023+0000', 'lastModifiedAt': '2024-05-24T15:47:06.025023+0000', 'azureml.onlineendpointid': '/subscriptions/3979595d-b401-4ff4-b3ef-661b8481c742/resourcegroups/aiplatform-1/providers/microsoft.machinelearningservices/workspaces/ai-mlw-dev-01/onlineendpoints/xgboost-model-endpoint-2e60ced8', 'AzureAsyncOperationUri': 'https://management.azure.com/subscriptions/3979595d-b401-4ff4-b3ef-661b8481c742/providers/Microsoft.MachineLearningServices/locations/ukwest/mfeOperationsStatus/oe:3a3fd522-5898-4524-9e4b-7f1074ac8ae4:9a349ac4-49aa-40d2-8de4-f9ff350353b9?api-version=2022-02-01-preview'}, 'print_as_yaml': False, 'id': '/subscriptions/3979595d-b401-4ff4-b3ef-661b8481c742/resourceGroups/aiplatform-1/providers/Microsoft.MachineLearningServices/workspaces/ai-mlw-dev-01/onlineEndpoints/xgboost-model-endpoint-2e60ced8', 'Resource__source_path': '', 'base_path': '/Users/ben.dixon/Repos/azure-experiments/deploy', 'creation_context': None, 'serialize': <msrest.serialization.Serializer object at 0x1467eef70>, 'auth_mode': 'key', 'location': 'ukwest', 'identity': <azure.ai.ml.entities._credentials.IdentityConfiguration object at 0x14682fac0>, 'traffic': {'blue': 100}, 'mirror_traffic': {}, 'kind': 'Managed'})"
      ]
     },
     "execution_count": 29,
     "metadata": {},
     "output_type": "execute_result"
    }
   ],
   "source": [
    "# blue deployment takes 100 traffic\n",
    "endpoint.traffic = {\"blue\": 100}\n",
    "ml_client.online_endpoints.begin_create_or_update(endpoint).result()"
   ]
  },
  {
   "cell_type": "markdown",
   "metadata": {},
   "source": [
    "Boo-yah!"
   ]
  },
  {
   "cell_type": "code",
   "execution_count": 30,
   "metadata": {},
   "outputs": [
    {
     "data": {
      "text/plain": [
       "'[1, 0, 2, 1]'"
      ]
     },
     "execution_count": 30,
     "metadata": {},
     "output_type": "execute_result"
    }
   ],
   "source": [
    "ml_client.online_endpoints.invoke(\n",
    "    endpoint_name=online_endpoint_name,\n",
    "    request_file=\"assets/xgboost-request.json\",)"
   ]
  },
  {
   "cell_type": "markdown",
   "metadata": {},
   "source": [
    "Endpoint details"
   ]
  },
  {
   "cell_type": "code",
   "execution_count": 31,
   "metadata": {},
   "outputs": [
    {
     "name": "stdout",
     "output_type": "stream",
     "text": [
      "{'blue': 100}\n",
      "https://xgboost-model-endpoint-2e60ced8.ukwest.inference.ml.azure.com/score\n"
     ]
    }
   ],
   "source": [
    "# Get the details for online endpoint\n",
    "endpoint = ml_client.online_endpoints.get(name=online_endpoint_name)\n",
    "\n",
    "# existing traffic details\n",
    "print(endpoint.traffic)\n",
    "\n",
    "# Get the scoring URI\n",
    "print(endpoint.scoring_uri)"
   ]
  },
  {
   "cell_type": "code",
   "execution_count": 32,
   "metadata": {},
   "outputs": [
    {
     "data": {
      "text/plain": [
       "'Instance status:\\nSystemSetup: Succeeded\\nUserContainerImagePull: Succeeded\\nModelDownload: Succeeded\\nUserContainerStart: Succeeded\\n\\nContainer events:\\nKind: Pod, Name: Pulling, Type: Normal, Time: 2024-05-24T15:55:38.968185Z, Message: Start pulling container image\\nKind: Pod, Name: Downloading, Type: Normal, Time: 2024-05-24T15:55:39.59076Z, Message: Start downloading models\\nKind: Pod, Name: Pulled, Type: Normal, Time: 2024-05-24T15:56:35.866708Z, Message: Container image is pulled successfully\\nKind: Pod, Name: Downloaded, Type: Normal, Time: 2024-05-24T15:56:35.866708Z, Message: Models are downloaded successfully\\nKind: Pod, Name: Created, Type: Normal, Time: 2024-05-24T15:56:35.948254Z, Message: Created container inference-server\\nKind: Pod, Name: Started, Type: Normal, Time: 2024-05-24T15:56:36.012062Z, Message: Started container inference-server\\nKind: Pod, Name: ContainerReady, Type: Normal, Time: 2024-05-24T15:56:58.198984251Z, Message: Container is ready\\n\\nContainer logs:\\n2024-05-24 15:59:13,962 I [71] gunicorn.access - 127.0.0.1 - - [24/May/2024:15:59:13 +0000] \"GET / HTTP/1.0\" 200 7 \"-\" \"kube-probe/1.18\"\\n2024-05-24 15:59:14,158 I [71] gunicorn.access - 127.0.0.1 - - [24/May/2024:15:59:14 +0000] \"GET / HTTP/1.0\" 200 7 \"-\" \"kube-probe/1.18\"\\n2024-05-24 15:59:23,962 I [71] gunicorn.access - 127.0.0.1 - - [24/May/2024:15:59:23 +0000] \"GET / HTTP/1.0\" 200 7 \"-\" \"kube-probe/1.18\"\\n2024-05-24 15:59:24,158 I [71] gunicorn.access - 127.0.0.1 - - [24/May/2024:15:59:24 +0000] \"GET / HTTP/1.0\" 200 7 \"-\" \"kube-probe/1.18\"\\n2024-05-24 15:59:33,962 I [71] gunicorn.access - 127.0.0.1 - - [24/May/2024:15:59:33 +0000] \"GET / HTTP/1.0\" 200 7 \"-\" \"kube-probe/1.18\"\\n2024-05-24 15:59:34,158 I [71] gunicorn.access - 127.0.0.1 - - [24/May/2024:15:59:34 +0000] \"GET / HTTP/1.0\" 200 7 \"-\" \"kube-probe/1.18\"\\n2024-05-24 15:59:43,962 I [71] gunicorn.access - 127.0.0.1 - - [24/May/2024:15:59:43 +0000] \"GET / HTTP/1.0\" 200 7 \"-\" \"kube-probe/1.18\"\\n2024-05-24 15:59:44,158 I [71] gunicorn.access - 127.0.0.1 - - [24/May/2024:15:59:44 +0000] \"GET / HTTP/1.0\" 200 7 \"-\" \"kube-probe/1.18\"\\n2024-05-24 15:59:53,962 I [71] gunicorn.access - 127.0.0.1 - - [24/May/2024:15:59:53 +0000] \"GET / HTTP/1.0\" 200 7 \"-\" \"kube-probe/1.18\"\\n2024-05-24 15:59:54,158 I [71] gunicorn.access - 127.0.0.1 - - [24/May/2024:15:59:54 +0000] \"GET / HTTP/1.0\" 200 7 \"-\" \"kube-probe/1.18\"\\n2024-05-24 16:00:03,962 I [71] gunicorn.access - 127.0.0.1 - - [24/May/2024:16:00:03 +0000] \"GET / HTTP/1.0\" 200 7 \"-\" \"kube-probe/1.18\"\\n2024-05-24 16:00:04,158 I [71] gunicorn.access - 127.0.0.1 - - [24/May/2024:16:00:04 +0000] \"GET / HTTP/1.0\" 200 7 \"-\" \"kube-probe/1.18\"\\n2024-05-24 16:00:13,962 I [71] gunicorn.access - 127.0.0.1 - - [24/May/2024:16:00:13 +0000] \"GET / HTTP/1.0\" 200 7 \"-\" \"kube-probe/1.18\"\\n2024-05-24 16:00:14,158 I [71] gunicorn.access - 127.0.0.1 - - [24/May/2024:16:00:14 +0000] \"GET / HTTP/1.0\" 200 7 \"-\" \"kube-probe/1.18\"\\n2024-05-24 16:00:23,962 I [71] gunicorn.access - 127.0.0.1 - - [24/May/2024:16:00:23 +0000] \"GET / HTTP/1.0\" 200 7 \"-\" \"kube-probe/1.18\"\\n2024-05-24 16:00:24,158 I [71] gunicorn.access - 127.0.0.1 - - [24/May/2024:16:00:24 +0000] \"GET / HTTP/1.0\" 200 7 \"-\" \"kube-probe/1.18\"\\n2024-05-24 16:00:33,962 I [71] gunicorn.access - 127.0.0.1 - - [24/May/2024:16:00:33 +0000] \"GET / HTTP/1.0\" 200 7 \"-\" \"kube-probe/1.18\"\\n2024-05-24 16:00:34,158 I [71] gunicorn.access - 127.0.0.1 - - [24/May/2024:16:00:34 +0000] \"GET / HTTP/1.0\" 200 7 \"-\" \"kube-probe/1.18\"\\n2024-05-24 16:00:43,962 I [71] gunicorn.access - 127.0.0.1 - - [24/May/2024:16:00:43 +0000] \"GET / HTTP/1.0\" 200 7 \"-\" \"kube-probe/1.18\"\\n2024-05-24 16:00:44,158 I [71] gunicorn.access - 127.0.0.1 - - [24/May/2024:16:00:44 +0000] \"GET / HTTP/1.0\" 200 7 \"-\" \"kube-probe/1.18\"\\n2024-05-24 16:00:53,962 I [71] gunicorn.access - 127.0.0.1 - - [24/May/2024:16:00:53 +0000] \"GET / HTTP/1.0\" 200 7 \"-\" \"kube-probe/1.18\"\\n2024-05-24 16:00:54,158 I [71] gunicorn.access - 127.0.0.1 - - [24/May/2024:16:00:54 +0000] \"GET / HTTP/1.0\" 200 7 \"-\" \"kube-probe/1.18\"\\n2024-05-24 16:01:03,962 I [71] gunicorn.access - 127.0.0.1 - - [24/May/2024:16:01:03 +0000] \"GET / HTTP/1.0\" 200 7 \"-\" \"kube-probe/1.18\"\\n2024-05-24 16:01:04,158 I [71] gunicorn.access - 127.0.0.1 - - [24/May/2024:16:01:04 +0000] \"GET / HTTP/1.0\" 200 7 \"-\" \"kube-probe/1.18\"\\n2024-05-24 16:01:13,962 I [71] gunicorn.access - 127.0.0.1 - - [24/May/2024:16:01:13 +0000] \"GET / HTTP/1.0\" 200 7 \"-\" \"kube-probe/1.18\"\\n2024-05-24 16:01:14,158 I [71] gunicorn.access - 127.0.0.1 - - [24/May/2024:16:01:14 +0000] \"GET / HTTP/1.0\" 200 7 \"-\" \"kube-probe/1.18\"\\n2024-05-24 16:01:23,962 I [71] gunicorn.access - 127.0.0.1 - - [24/May/2024:16:01:23 +0000] \"GET / HTTP/1.0\" 200 7 \"-\" \"kube-probe/1.18\"\\n2024-05-24 16:01:24,158 I [71] gunicorn.access - 127.0.0.1 - - [24/May/2024:16:01:24 +0000] \"GET / HTTP/1.0\" 200 7 \"-\" \"kube-probe/1.18\"\\n2024-05-24 16:01:33,962 I [71] gunicorn.access - 127.0.0.1 - - [24/May/2024:16:01:33 +0000] \"GET / HTTP/1.0\" 200 7 \"-\" \"kube-probe/1.18\"\\n2024-05-24 16:01:34,158 I [71] gunicorn.access - 127.0.0.1 - - [24/May/2024:16:01:34 +0000] \"GET / HTTP/1.0\" 200 7 \"-\" \"kube-probe/1.18\"\\n2024-05-24 16:01:43,962 I [71] gunicorn.access - 127.0.0.1 - - [24/May/2024:16:01:43 +0000] \"GET / HTTP/1.0\" 200 7 \"-\" \"kube-probe/1.18\"\\n2024-05-24 16:01:44,158 I [71] gunicorn.access - 127.0.0.1 - - [24/May/2024:16:01:44 +0000] \"GET / HTTP/1.0\" 200 7 \"-\" \"kube-probe/1.18\"\\n2024-05-24 16:01:53,962 I [71] gunicorn.access - 127.0.0.1 - - [24/May/2024:16:01:53 +0000] \"GET / HTTP/1.0\" 200 7 \"-\" \"kube-probe/1.18\"\\n2024-05-24 16:01:54,158 I [71] gunicorn.access - 127.0.0.1 - - [24/May/2024:16:01:54 +0000] \"GET / HTTP/1.0\" 200 7 \"-\" \"kube-probe/1.18\"\\n2024-05-24 16:02:03,962 I [71] gunicorn.access - 127.0.0.1 - - [24/May/2024:16:02:03 +0000] \"GET / HTTP/1.0\" 200 7 \"-\" \"kube-probe/1.18\"\\n2024-05-24 16:02:04,158 I [71] gunicorn.access - 127.0.0.1 - - [24/May/2024:16:02:04 +0000] \"GET / HTTP/1.0\" 200 7 \"-\" \"kube-probe/1.18\"\\n2024-05-24 16:02:08,233 I [71] azmlinfsrv - POST /score 200 2.380ms 12\\n2024-05-24 16:02:08,234 I [71] gunicorn.access - 127.0.0.1 - - [24/May/2024:16:02:08 +0000] \"POST /score HTTP/1.0\" 200 12 \"-\" \"azure-ai-ml/1.16.0 azsdk-python-core/1.30.1 Python/3.9.6 (macOS-14.3.1-arm64-arm-64bit)\"\\n2024-05-24 16:02:13,962 I [71] gunicorn.access - 127.0.0.1 - - [24/May/2024:16:02:13 +0000] \"GET / HTTP/1.0\" 200 7 \"-\" \"kube-probe/1.18\"\\n2024-05-24 16:02:14,158 I [71] gunicorn.access - 127.0.0.1 - - [24/May/2024:16:02:14 +0000] \"GET / HTTP/1.0\" 200 7 \"-\" \"kube-probe/1.18\"\\n2024-05-24 16:02:23,962 I [71] gunicorn.access - 127.0.0.1 - - [24/May/2024:16:02:23 +0000] \"GET / HTTP/1.0\" 200 7 \"-\" \"kube-probe/1.18\"\\n2024-05-24 16:02:24,158 I [71] gunicorn.access - 127.0.0.1 - - [24/May/2024:16:02:24 +0000] \"GET / HTTP/1.0\" 200 7 \"-\" \"kube-probe/1.18\"\\n2024-05-24 16:02:33,962 I [71] gunicorn.access - 127.0.0.1 - - [24/May/2024:16:02:33 +0000] \"GET / HTTP/1.0\" 200 7 \"-\" \"kube-probe/1.18\"\\n2024-05-24 16:02:34,158 I [71] gunicorn.access - 127.0.0.1 - - [24/May/2024:16:02:34 +0000] \"GET / HTTP/1.0\" 200 7 \"-\" \"kube-probe/1.18\"\\n2024-05-24 16:02:43,962 I [71] gunicorn.access - 127.0.0.1 - - [24/May/2024:16:02:43 +0000] \"GET / HTTP/1.0\" 200 7 \"-\" \"kube-probe/1.18\"\\n2024-05-24 16:02:44,158 I [71] gunicorn.access - 127.0.0.1 - - [24/May/2024:16:02:44 +0000] \"GET / HTTP/1.0\" 200 7 \"-\" \"kube-probe/1.18\"\\n2024-05-24 16:02:53,962 I [71] gunicorn.access - 127.0.0.1 - - [24/May/2024:16:02:53 +0000] \"GET / HTTP/1.0\" 200 7 \"-\" \"kube-probe/1.18\"\\n2024-05-24 16:02:54,158 I [71] gunicorn.access - 127.0.0.1 - - [24/May/2024:16:02:54 +0000] \"GET / HTTP/1.0\" 200 7 \"-\" \"kube-probe/1.18\"\\n2024-05-24 16:03:03,962 I [71] gunicorn.access - 127.0.0.1 - - [24/May/2024:16:03:03 +0000] \"GET / HTTP/1.0\" 200 7 \"-\" \"kube-probe/1.18\"\\n2024-05-24 16:03:04,158 I [71] gunicorn.access - 127.0.0.1 - - [24/May/2024:16:03:04 +0000] \"GET / HTTP/1.0\" 200 7 \"-\" \"kube-probe/1.18\"\\n\\n'"
      ]
     },
     "execution_count": 32,
     "metadata": {},
     "output_type": "execute_result"
    }
   ],
   "source": [
    "ml_client.online_deployments.get_logs(\n",
    "    name=\"blue\", endpoint_name=online_endpoint_name, lines=50\n",
    ")"
   ]
  },
  {
   "cell_type": "code",
   "execution_count": 33,
   "metadata": {},
   "outputs": [
    {
     "data": {
      "text/plain": [
       "<azure.core.polling._poller.LROPoller at 0x14682fb50>"
      ]
     },
     "execution_count": 33,
     "metadata": {},
     "output_type": "execute_result"
    },
    {
     "name": "stdout",
     "output_type": "stream",
     "text": [
      "................................................................"
     ]
    }
   ],
   "source": [
    "ml_client.online_endpoints.begin_delete(name=online_endpoint_name)"
   ]
  },
  {
   "cell_type": "code",
   "execution_count": null,
   "metadata": {},
   "outputs": [],
   "source": []
  }
 ],
 "metadata": {
  "kernelspec": {
   "display_name": ".venv",
   "language": "python",
   "name": "python3"
  },
  "language_info": {
   "codemirror_mode": {
    "name": "ipython",
    "version": 3
   },
   "file_extension": ".py",
   "mimetype": "text/x-python",
   "name": "python",
   "nbconvert_exporter": "python",
   "pygments_lexer": "ipython3",
   "version": "3.9.6"
  }
 },
 "nbformat": 4,
 "nbformat_minor": 2
}
